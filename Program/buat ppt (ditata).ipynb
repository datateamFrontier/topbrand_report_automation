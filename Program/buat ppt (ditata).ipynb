{
 "cells": [
  {
   "cell_type": "code",
   "execution_count": 1,
   "metadata": {},
   "outputs": [],
   "source": [
    "import ppt_top_brand as ppt_tb\n",
    "import olah_data_top_brand as olah_tb"
   ]
  },
  {
   "cell_type": "code",
   "execution_count": 2,
   "metadata": {},
   "outputs": [],
   "source": [
    "import pandas as pd\n",
    "pd.set_option('display.max_columns', None)\n",
    "\n",
    "import numpy as np\n",
    "import seaborn as sb\n",
    "import openpyxl\n",
    "\n",
    "cm = sb.light_palette(\"green\", as_cmap=True)"
   ]
  },
  {
   "cell_type": "markdown",
   "metadata": {},
   "source": [
    "# Data"
   ]
  },
  {
   "cell_type": "code",
   "execution_count": 3,
   "metadata": {
    "scrolled": true
   },
   "outputs": [],
   "source": [
    "df_input_clean = pd.read_excel('data input clean top brand.xlsx')\n",
    "df_tracking = pd.read_excel('gabungan data tracking na.xlsx')\n",
    "df_semuaElemen = pd.read_excel('gabungan fase.xlsx')\n",
    "df_tambahan = pd.read_excel('data tambahan edit.xlsx')\n",
    "df_nontambahan = pd.read_excel('data non tambahan.xlsx')\n",
    "mascod_bedding = pd.read_excel('mascod bedding 2021.xlsx')\n",
    "excel_tambahan = pd.ExcelFile('mascod tambahan.xlsx')\n",
    "excel_non_tambahan = pd.ExcelFile('mascod non tambahan.xlsx')\n",
    "\n",
    "code_top_brand_lainnya = pd.read_excel('urutan brand.xlsx')\n",
    "code_top_brand = code_top_brand_lainnya.loc[:len(code_top_brand_lainnya)-2].sort_values(by='Sorting').reset_index(drop=True)\n",
    "\n",
    "top10_brand = code_top_brand_lainnya[~(code_top_brand_lainnya['Brand']=='Lainnya') & ~(code_top_brand_lainnya['Brand']=='Total')]['Brand'].to_list()\n",
    "sorter_brand = code_top_brand_lainnya['Sorting'][:len(code_top_brand_lainnya)]"
   ]
  },
  {
   "cell_type": "code",
   "execution_count": 4,
   "metadata": {},
   "outputs": [],
   "source": [
    "client = 'Comforta'\n",
    "subkategori = ['Bedding']"
   ]
  },
  {
   "cell_type": "markdown",
   "metadata": {},
   "source": [
    "## Pendahuluan"
   ]
  },
  {
   "cell_type": "code",
   "execution_count": 5,
   "metadata": {},
   "outputs": [],
   "source": [
    "sample_size = olah_tb.sample_size(df_input_clean, ['Kota','Random','Booster','Total'])"
   ]
  },
  {
   "cell_type": "code",
   "execution_count": 6,
   "metadata": {},
   "outputs": [],
   "source": [
    "# sample_size"
   ]
  },
  {
   "cell_type": "markdown",
   "metadata": {},
   "source": [
    "## Ringkasan Eksekutif"
   ]
  },
  {
   "cell_type": "code",
   "execution_count": 7,
   "metadata": {},
   "outputs": [],
   "source": [
    "data_tracking, merek_tracking, tahun_ini = olah_tb.buat_data_tracking(df_tracking, subkategori)\n",
    "subkategori = [subkategori[0].upper()]\n",
    "df_semuaElemen, semua_elemen_sekarang, semua_elemen_kemarin, merek_top6 = olah_tb.top6_semuaElemen_DuaTahun(df_semuaElemen, subkategori, tahun_ini)\n",
    "\n",
    "dt_client = df_semuaElemen[(df_semuaElemen.Brand.isin([client]))]\n",
    "dt_client_5thn = dt_client[~(tahun_ini-dt_client['Tahun'] >= 5)]"
   ]
  },
  {
   "cell_type": "code",
   "execution_count": null,
   "metadata": {},
   "outputs": [],
   "source": []
  },
  {
   "cell_type": "code",
   "execution_count": 8,
   "metadata": {},
   "outputs": [],
   "source": [
    "dt_tracking = data_tracking[['Tahun','Merek','Top Brand Index']].pivot(index='Tahun',columns='Merek',\n",
    "                                                                            values='Top Brand Index')\n",
    "dt_tracking = dt_tracking.reset_index()\n",
    "dt_tracking.columns.name = None"
   ]
  },
  {
   "cell_type": "markdown",
   "metadata": {},
   "source": [
    "## profil responden"
   ]
  },
  {
   "cell_type": "code",
   "execution_count": 9,
   "metadata": {},
   "outputs": [],
   "source": [
    "# Memberikan label nama brand ke data dan membuat data ir ya\n",
    "df_laporan = olah_tb.data_laporan(df_input_clean, mascod_bedding,  top10_brand)\n",
    "data_ir = df_laporan[df_laporan.IR=='Ya']\n",
    "dt_nonIR = df_laporan[df_laporan.IR == 'Tidak']"
   ]
  },
  {
   "cell_type": "code",
   "execution_count": 10,
   "metadata": {},
   "outputs": [],
   "source": [
    "profil_ir, profil_ir_persen = olah_tb.data_ir(df_laporan)\n",
    "\n",
    "total_Usiar, tabelUsiar = olah_tb.profil_responden(data_ir, 'LU', 'usiar', sorter_brand)\n",
    "total_Usia, tabelUsia = olah_tb.profil_responden(data_ir, 'LU', 'usia', sorter_brand)\n",
    "mean_usia = [round(np.mean(data_ir.usia), 2)]\n",
    "total_Pekerjaan, tabelPekerjaan = olah_tb.profil_responden(data_ir, 'LU', 'kerja', sorter_brand)\n",
    "presentase_pekerjaan = olah_tb.presentase_profil(tabelPekerjaan)\n",
    "total_Pendidikan, tabelPendidikan = olah_tb.profil_responden(data_ir, 'LU', 'didik', sorter_brand, olah_tb.pendidikan_urut())\n",
    "total_Expandr, tabelExpandr = olah_tb.profil_responden(data_ir, 'LU', 'expandr', sorter_brand, olah_tb.ses_urut())"
   ]
  },
  {
   "cell_type": "code",
   "execution_count": 11,
   "metadata": {},
   "outputs": [],
   "source": [
    "# tabelPendidikan"
   ]
  },
  {
   "cell_type": "markdown",
   "metadata": {},
   "source": [
    "## Peta top brand"
   ]
  },
  {
   "cell_type": "code",
   "execution_count": 12,
   "metadata": {},
   "outputs": [],
   "source": [
    "# Data untuk TOM, LU, Fl - Slide 35, 39, 48, 53\n",
    "## Menghitung indeks\n",
    "mind_share, total_bobot_tom = olah_tb.hitung_nilai('TOM', df_laporan, sorter_brand)\n",
    "mind_share_nonuser, _ = olah_tb.hitung_nilai('TOM', df_laporan, sorter_brand, non_user = True)\n",
    "market_share, _ = olah_tb.hitung_nilai('LU', data_ir, sorter_brand)\n",
    "commitment_share, _ = olah_tb.hitung_nilai('FI', data_ir, sorter_brand)\n",
    "\n",
    "## Menghitung gap\n",
    "gap_mind_share = olah_tb.hitung_gap(mind_share, top10_brand)\n",
    "gap_mind_share_nonuser = olah_tb.hitung_gap(mind_share_nonuser, top10_brand)\n",
    "gap_market_share = olah_tb.hitung_gap(market_share, top10_brand)\n",
    "gap_commitment_share = olah_tb.hitung_gap(commitment_share, top10_brand)"
   ]
  },
  {
   "cell_type": "code",
   "execution_count": 13,
   "metadata": {},
   "outputs": [],
   "source": [
    "# Data untuk TOM, LU, Fl dengan breakdown\n",
    "## Mind share - Slide 36 s/d 38\n",
    "mind_share_kota = olah_tb.hitung_nilai_crosstab(kriteria = 'TOM', by = 'kota', data_used = df_laporan, \n",
    "                      indeks_brand = sorter_brand, indeks_kolom = olah_tb.kota_urut())\n",
    "mind_share_expandr = olah_tb.hitung_nilai_crosstab(kriteria = 'TOM', by = 'expandr', data_used = df_laporan, \n",
    "                      indeks_brand = sorter_brand, indeks_kolom = olah_tb.ses_urut())\n",
    "mind_share_usiar = olah_tb.hitung_nilai_crosstab(kriteria = 'TOM', by = 'usiar', data_used = df_laporan, \n",
    "                      indeks_brand = sorter_brand)\n",
    "mind_share_sex = olah_tb.hitung_nilai_crosstab(kriteria = 'TOM', by = 'sex', data_used = df_laporan, \n",
    "                      indeks_brand = sorter_brand)\n",
    "mind_share_kota = olah_tb.fungsi_by('TOM','kota',mind_share_kota,df_laporan)\n",
    "mind_share_expandr = olah_tb.fungsi_by('TOM','expandr',mind_share_expandr,df_laporan)\n",
    "mind_share_usiar = olah_tb.fungsi_by('TOM','usiar',mind_share_usiar,df_laporan)\n",
    "mind_share_sex = olah_tb.fungsi_by('TOM','sex',mind_share_sex,df_laporan)\n",
    "\n",
    "\n",
    "## Mind share non user - Slide 40 s/d 42\n",
    "mind_share_kota_nonuser = olah_tb.hitung_nilai_crosstab(kriteria = 'TOM', by = 'kota', data_used = df_laporan, \n",
    "                      indeks_brand = sorter_brand, indeks_kolom = olah_tb.kota_urut(), non_user=True)\n",
    "mind_share_expandr_nonuser = olah_tb.hitung_nilai_crosstab(kriteria = 'TOM', by = 'expandr', data_used = df_laporan, \n",
    "                      indeks_brand = sorter_brand, indeks_kolom = olah_tb.ses_urut(), non_user=True)\n",
    "mind_share_usiar_nonuser = olah_tb.hitung_nilai_crosstab(kriteria = 'TOM', by = 'usiar', data_used = df_laporan, \n",
    "                      indeks_brand = sorter_brand, non_user=True)\n",
    "mind_share_sex_nonuser = olah_tb.hitung_nilai_crosstab(kriteria = 'TOM', by = 'sex', data_used = df_laporan, \n",
    "                      indeks_brand = sorter_brand, non_user=True)\n",
    "mind_share_kota_nonuser = olah_tb.fungsi_by('TOM','kota',mind_share_kota_nonuser,dt_nonIR)\n",
    "mind_share_expandr_nonuser = olah_tb.fungsi_by('TOM','expandr',mind_share_expandr_nonuser,dt_nonIR)\n",
    "mind_share_usiar_nonuser = olah_tb.fungsi_by('TOM','usiar',mind_share_usiar_nonuser,dt_nonIR)\n",
    "mind_share_sex_nonuser = olah_tb.fungsi_by('TOM','sex',mind_share_sex_nonuser,dt_nonIR)\n",
    "\n",
    "\n",
    "## Market share - Slide 48 s/d 51\n",
    "market_share_kota = olah_tb.hitung_nilai_crosstab(kriteria = 'LU', by = 'kota', data_used = data_ir, \n",
    "                      indeks_brand = sorter_brand, indeks_kolom = olah_tb.kota_urut())\n",
    "market_share_expandr = olah_tb.hitung_nilai_crosstab(kriteria = 'LU', by = 'expandr', data_used = data_ir, \n",
    "                      indeks_brand = sorter_brand, indeks_kolom = olah_tb.ses_urut())\n",
    "market_share_usiar = olah_tb.hitung_nilai_crosstab(kriteria = 'LU', by = 'usiar', data_used = data_ir, \n",
    "                      indeks_brand = sorter_brand)\n",
    "market_share_sex = olah_tb.hitung_nilai_crosstab(kriteria = 'LU', by = 'sex', data_used = data_ir, \n",
    "                      indeks_brand = sorter_brand)\n",
    "market_share_kota = olah_tb.fungsi_by('LU','kota',market_share_kota,data_ir)\n",
    "market_share_expandr = olah_tb.fungsi_by('LU','expandr',market_share_expandr,data_ir)\n",
    "market_share_usiar = olah_tb.fungsi_by('LU','usiar',market_share_usiar,data_ir)\n",
    "market_share_sex = olah_tb.fungsi_by('LU','sex',market_share_sex,data_ir)\n",
    "\n",
    "\n",
    "## Commitment share - Slide 54 s/d 56\n",
    "commitment_share_kota = olah_tb.hitung_nilai_crosstab(kriteria = 'FI', by = 'kota', data_used = data_ir, \n",
    "                      indeks_brand = sorter_brand, indeks_kolom = olah_tb.kota_urut())\n",
    "commitment_share_expandr = olah_tb.hitung_nilai_crosstab(kriteria = 'FI', by = 'expandr', data_used = data_ir, \n",
    "                      indeks_brand = sorter_brand, indeks_kolom = olah_tb.ses_urut())\n",
    "commitment_share_usiar = olah_tb.hitung_nilai_crosstab(kriteria = 'FI', by = 'usiar', data_used = data_ir, \n",
    "                      indeks_brand = sorter_brand)\n",
    "commitment_share_sex = olah_tb.hitung_nilai_crosstab(kriteria = 'FI', by = 'sex', data_used = data_ir, \n",
    "                      indeks_brand = sorter_brand)\n",
    "commitment_share_kota = olah_tb.fungsi_by('LU','kota',commitment_share_kota,data_ir)\n",
    "commitment_share_expandr = olah_tb.fungsi_by('LU','expandr',commitment_share_expandr,data_ir)\n",
    "commitment_share_usiar = olah_tb.fungsi_by('LU','usiar',commitment_share_usiar,data_ir)\n",
    "commitment_share_sex = olah_tb.fungsi_by('LU','sex',commitment_share_sex,data_ir)"
   ]
  },
  {
   "cell_type": "code",
   "execution_count": 14,
   "metadata": {},
   "outputs": [],
   "source": [
    "# Data untuk grafik tbi\n",
    "## TBI - Slide 30\n",
    "dt_tbi = olah_tb.hitung_tbi(mind_share, market_share, commitment_share)\n",
    "gap_tbi = olah_tb.hitung_gap(dt_tbi, top10_brand)\n",
    "\n",
    "## TBI dengan Breakdown - Slide 31 s/d 33\n",
    "dt_tbi_kota = olah_tb.crosstab_tbi(mind_share_kota.data, market_share_kota.data, commitment_share_kota.data)\n",
    "dt_tbi_expandr = olah_tb.crosstab_tbi(mind_share_expandr.data, market_share_expandr.data, commitment_share_expandr.data)\n",
    "dt_tbi_usiar = olah_tb.crosstab_tbi(mind_share_usiar.data, market_share_usiar.data, commitment_share_usiar.data)\n",
    "dt_tbi_sex = olah_tb.crosstab_tbi(mind_share_sex.data, market_share_sex.data, commitment_share_sex.data)\n",
    "\n",
    "indeks_tbi_kota = olah_tb.conditional_formating(dt_tbi_kota)\n",
    "indeks_tbi_expandr = olah_tb.conditional_formating(dt_tbi_expandr)\n",
    "indeks_tbi_usiar = olah_tb.conditional_formating(dt_tbi_usiar)\n",
    "indeks_tbi_sex = olah_tb.conditional_formating(dt_tbi_sex)"
   ]
  },
  {
   "cell_type": "code",
   "execution_count": 15,
   "metadata": {},
   "outputs": [],
   "source": [
    "# Data untuk grafik Unaided \n",
    "## Data Unaided- Slide 43\n",
    "df_unaided = olah_tb.get_dataframe_unaided(df_laporan)\n",
    "\n",
    "dt_unaided = olah_tb.hitung_unaided(df_unaided, total_bobot_tom, sorter_brand)\n",
    "gap_unaided = olah_tb.hitung_gap(dt_unaided, top10_brand)\n",
    "\n",
    "dt_selisih = dt_unaided.copy()\n",
    "dt_selisih['Unaided'] = dt_unaided['Unaided']-mind_share['Mind Share']\n",
    "dt_selisih.columns = ['Brand','Selisih UN-TOM']\n",
    "\n",
    "## Data unaided dengan breakdown - Slide 44 s/d 46\n",
    "unaided_kota = olah_tb.hitung_nilai_crosstab(kriteria = 'UN', by = 'kota', data_used = df_unaided, \n",
    "                                     indeks_brand = sorter_brand, indeks_kolom = olah_tb.kota_urut(), dt_tom=df_laporan)\n",
    "unaided_usiar = olah_tb.hitung_nilai_crosstab(kriteria = 'UN', by = 'usiar', data_used = df_unaided, \n",
    "                                     indeks_brand = sorter_brand, dt_tom=df_laporan)\n",
    "unaided_expandr = olah_tb.hitung_nilai_crosstab(kriteria = 'UN', by = 'expandr', data_used = df_unaided, \n",
    "                                     indeks_brand = sorter_brand, indeks_kolom = olah_tb.ses_urut(), dt_tom=df_laporan)\n",
    "unaided_sex = olah_tb.hitung_nilai_crosstab(kriteria = 'UN', by = 'sex', data_used = df_unaided, \n",
    "                                     indeks_brand = sorter_brand, dt_tom=df_laporan)\n",
    "unaided_kota = olah_tb.fungsi_by('TOM','kota',unaided_kota,df_laporan)\n",
    "unaided_expandr = olah_tb.fungsi_by('TOM','expandr',unaided_expandr,df_laporan)\n",
    "unaided_usiar = olah_tb.fungsi_by('TOM','usiar',unaided_usiar,df_laporan)\n",
    "unaided_sex = olah_tb.fungsi_by('TOM','sex',unaided_sex,df_laporan)"
   ]
  },
  {
   "cell_type": "code",
   "execution_count": null,
   "metadata": {},
   "outputs": [],
   "source": []
  },
  {
   "cell_type": "code",
   "execution_count": 16,
   "metadata": {},
   "outputs": [],
   "source": [
    "mind_share_nonuser.columns =['Brand','Mind Share (non-user)']\n",
    "gap_mind_share.columns = ['Brand','Gap Mind Share']\n",
    "gap_mind_share_nonuser.columns = ['Brand', 'Gap Mind Share (non-user)']\n",
    "gap_market_share.columns = ['Brand', 'Gap Market Share']\n",
    "gap_commitment_share.columns = ['Brand','Gap Commitment Share']\n",
    "gap_tbi.columns = ['Brand','Gap TBI']\n",
    "gap_unaided.columns = ['Brand','Gap Unaided']\n",
    "\n",
    "tabel_indeks = pd.concat([dt_tbi.set_index('Brand'),mind_share.set_index('Brand'), mind_share_nonuser.set_index('Brand'),\n",
    "                         dt_unaided.set_index('Brand'),market_share.set_index('Brand'), commitment_share.set_index('Brand')], \n",
    "                         axis=1)\n",
    "tabel_indeks = tabel_indeks.reset_index()\n",
    "tabel_gap = pd.concat([gap_tbi.set_index('Brand'),gap_mind_share.set_index('Brand'), gap_mind_share_nonuser.set_index('Brand'),\n",
    "                       gap_unaided.set_index('Brand'), dt_selisih.set_index('Brand'),\n",
    "                       gap_market_share.set_index('Brand'), gap_commitment_share.set_index('Brand')], axis=1)\n",
    "tabel_gap = tabel_gap.reset_index()"
   ]
  },
  {
   "cell_type": "markdown",
   "metadata": {},
   "source": [
    "## Brand Switching"
   ]
  },
  {
   "cell_type": "code",
   "execution_count": null,
   "metadata": {},
   "outputs": [],
   "source": []
  },
  {
   "cell_type": "code",
   "execution_count": 17,
   "metadata": {},
   "outputs": [],
   "source": [
    "# Data untuk grafik Brand Switching\n",
    "## Data grafik - Slide 59\n",
    "brand_switch = olah_tb.hitung_brand_switch(df_laporan, code_top_brand_lainnya, sorter_brand)\n",
    "n_sample = olah_tb.n_sample_user(data_ir, code_top_brand_lainnya)\n",
    "\n",
    "## Data tabel FI-LU - Slide 60\n",
    "tabel_brand_switching = olah_tb.tabel_brand_switch(df_laporan, code_top_brand, n_sample)\n",
    "\n",
    "## Data Convertion Rate - SLide 62\n",
    "conv_rate = olah_tb.hitung_conv_rate(data_used = df_laporan, list_sorted_brand = code_top_brand)"
   ]
  },
  {
   "cell_type": "code",
   "execution_count": 18,
   "metadata": {},
   "outputs": [],
   "source": [
    "brand_switching_analysis = pd.concat([brand_switch.set_index('Brand'), conv_rate.set_index('Brand')], \n",
    "                                     keys=['Brand Switching','Conversion Rate'], axis=1)"
   ]
  },
  {
   "cell_type": "code",
   "execution_count": null,
   "metadata": {},
   "outputs": [],
   "source": []
  },
  {
   "cell_type": "markdown",
   "metadata": {},
   "source": [
    "## Brand diagnostic & Competitor Landscape"
   ]
  },
  {
   "cell_type": "code",
   "execution_count": 19,
   "metadata": {},
   "outputs": [],
   "source": [
    "# Data untuk tabel dan grafik Brand Diagnostic - Slide 66 dan 67\n",
    "dt_diagnostic = olah_tb.brand_diagnostic(mind_share, market_share, commitment_share)"
   ]
  },
  {
   "cell_type": "code",
   "execution_count": 20,
   "metadata": {},
   "outputs": [],
   "source": [
    "# Data untuk tabel Competitor Landscape - Slide 71 s/d 77\n",
    "kt_ = olah_tb.kota_urut()\n",
    "\n",
    "bobot_cl, competitor_all, competitor_landscape = olah_tb.hitung_bobot_cl(data_ir, code_top_brand)\n",
    "cl_overall = olah_tb.hitung_competitor_landscape('Overall',competitor_all, bobot_cl)\n",
    "cl_perkota = [olah_tb.hitung_competitor_landscape(kt_[i], competitor_landscape[i],bobot_cl) for i in range(len(competitor_landscape))]"
   ]
  },
  {
   "cell_type": "code",
   "execution_count": 21,
   "metadata": {},
   "outputs": [],
   "source": [
    "cl_overall_ = olah_tb.conditional_formating(cl_overall, 'competitor')\n",
    "cl_perkota_ = []*len(cl_perkota)\n",
    "cl_perkota_ = [olah_tb.conditional_formating(x_, 'competitor') for x_ in cl_perkota]"
   ]
  },
  {
   "cell_type": "markdown",
   "metadata": {},
   "source": [
    "## General Information"
   ]
  },
  {
   "cell_type": "markdown",
   "metadata": {},
   "source": [
    "### Media Habit"
   ]
  },
  {
   "cell_type": "code",
   "execution_count": 22,
   "metadata": {},
   "outputs": [],
   "source": [
    "# Data untuk grafik Media Habit - Slide 80 s/d 85\n",
    "mascod_mhabit = pd.read_excel(excel_tambahan, sheet_name = 'p8')\n",
    "tab_mhabit = olah_tb.hitung_tambahan(data_used=df_tambahan, kode_awal='p8', mascod = mascod_mhabit, top = 10)\n",
    "tab_mhabit = tab_mhabit.reset_index()\n",
    "tab_mhabit['Kriteria'] = tab_mhabit['Kriteria'].astype('str')\n",
    "\n",
    "mascod_tv = pd.read_excel(excel_tambahan, sheet_name = 'tv')\n",
    "tab_mhabit_tv = olah_tb.hitung_tambahan(data_used=df_tambahan, kode_awal='tv', mascod = mascod_tv, top = 10)\n",
    "tab_mhabit_tv = tab_mhabit_tv.reset_index()\n",
    "tab_mhabit_tv['Kriteria'] = tab_mhabit_tv['Kriteria'].astype('str')\n",
    "\n",
    "mascod_acaratv = pd.read_excel(excel_tambahan, sheet_name = 'acaratv')\n",
    "tab_mhabit_acaratv = olah_tb.hitung_tambahan(data_used=df_tambahan, kode_awal='acaratv', mascod = mascod_acaratv, top = 10)\n",
    "tab_mhabit_acaratv = tab_mhabit_acaratv.reset_index()\n",
    "tab_mhabit_acaratv['Kriteria'] = tab_mhabit_acaratv['Kriteria'].astype('str')\n",
    "\n",
    "mascod_koran = pd.read_excel(excel_tambahan, sheet_name = 'koran')\n",
    "tab_mhabit_koran = olah_tb.hitung_tambahan(data_used=df_tambahan, kode_awal='koran', mascod = mascod_koran, top = 10)\n",
    "tab_mhabit_koran = tab_mhabit_koran.reset_index()\n",
    "tab_mhabit_koran['Kriteria'] = tab_mhabit_koran['Kriteria'].astype('str')\n",
    "\n",
    "mascod_majalah = pd.read_excel(excel_tambahan, sheet_name = 'majalah')\n",
    "tab_mhabit_majalah = olah_tb.hitung_tambahan(data_used=df_tambahan, kode_awal='majalah', mascod = mascod_majalah, top = 10)\n",
    "tab_mhabit_majalah = tab_mhabit_majalah.reset_index()\n",
    "tab_mhabit_majalah['Kriteria'] = tab_mhabit_majalah['Kriteria'].astype('str')\n",
    "\n",
    "mascod_tabloid = pd.read_excel(excel_tambahan, sheet_name = 'tabloid')\n",
    "tab_mhabit_tabloid = olah_tb.hitung_tambahan(data_used=df_tambahan, kode_awal='tabloid', mascod = mascod_tabloid, top = 10)\n",
    "tab_mhabit_tabloid = tab_mhabit_tabloid.reset_index()\n",
    "tab_mhabit_tabloid['Kriteria'] = tab_mhabit_tabloid['Kriteria'].astype('str')"
   ]
  },
  {
   "cell_type": "markdown",
   "metadata": {},
   "source": [
    "### Internet & Media Sosial"
   ]
  },
  {
   "cell_type": "code",
   "execution_count": 23,
   "metadata": {},
   "outputs": [
    {
     "name": "stderr",
     "output_type": "stream",
     "text": [
      "C:\\ProgramData\\Anaconda3\\lib\\site-packages\\pandas\\core\\indexing.py:1765: SettingWithCopyWarning: \n",
      "A value is trying to be set on a copy of a slice from a DataFrame.\n",
      "Try using .loc[row_indexer,col_indexer] = value instead\n",
      "\n",
      "See the caveats in the documentation: https://pandas.pydata.org/pandas-docs/stable/user_guide/indexing.html#returning-a-view-versus-a-copy\n",
      "  isetter(loc, value)\n",
      "C:\\ProgramData\\Anaconda3\\lib\\site-packages\\pandas\\core\\indexing.py:1765: SettingWithCopyWarning: \n",
      "A value is trying to be set on a copy of a slice from a DataFrame.\n",
      "Try using .loc[row_indexer,col_indexer] = value instead\n",
      "\n",
      "See the caveats in the documentation: https://pandas.pydata.org/pandas-docs/stable/user_guide/indexing.html#returning-a-view-versus-a-copy\n",
      "  isetter(loc, value)\n",
      "C:\\ProgramData\\Anaconda3\\lib\\site-packages\\pandas\\core\\indexing.py:670: SettingWithCopyWarning: \n",
      "A value is trying to be set on a copy of a slice from a DataFrame\n",
      "\n",
      "See the caveats in the documentation: https://pandas.pydata.org/pandas-docs/stable/user_guide/indexing.html#returning-a-view-versus-a-copy\n",
      "  iloc._setitem_with_indexer(indexer, value)\n",
      "C:\\Users\\rudi\\Documents\\Frontier\\Top Brand\\Pre Final\\olah_data_top_brand.py:1181: SettingWithCopyWarning: \n",
      "A value is trying to be set on a copy of a slice from a DataFrame\n",
      "\n",
      "See the caveats in the documentation: https://pandas.pydata.org/pandas-docs/stable/user_guide/indexing.html#returning-a-view-versus-a-copy\n",
      "  data.loc[data.loc[:,'Olshop']==coding_i,'Olshop'] = mascod_olshop.loc[i,'Label']\n"
     ]
    }
   ],
   "source": [
    "dt_olshop = olah_tb.filter_tambahan(df_tambahan, kode_awal = 'p18_1_0', incl_kota = True, kolom_kota = 'Kota_1_0')\n",
    "mascod_kota = pd.read_excel(excel_tambahan, sheet_name = 'Kota_1_0')\n",
    "mascod_olshop = pd.read_excel(excel_tambahan, sheet_name = 'p18_1_0')\n",
    "profil_olshop, profil_olshop_persen = olah_tb.data_olshop(dt_olshop,  mascod_kota, mascod_olshop)\n",
    "\n",
    "dt_pengeluaran = olah_tb.filter_tambahan(df_tambahan, kode_awal = 'p22_1', incl_kota = False)\n",
    "dt_pengeluaran = dt_pengeluaran.dropna()\n",
    "rata_pengeluaran, n_sampel_pengeluaran = np.mean(dt_pengeluaran), len(dt_pengeluaran)\n",
    "\n",
    "mascod_jenis_barang = pd.read_excel(excel_tambahan, sheet_name = 'p20')\n",
    "tab_ism_jenis_barang = olah_tb.hitung_tambahan(data_used=df_tambahan, kode_awal='p20_1', mascod = mascod_jenis_barang, top = 10)\n",
    "tab_ism_jenis_barang = tab_ism_jenis_barang.reset_index()\n",
    "tab_ism_jenis_barang['Kriteria'] = tab_ism_jenis_barang['Kriteria'].astype('str')\n",
    "\n",
    "mascod_pembayaran = pd.read_excel(excel_tambahan, sheet_name = 'p23')\n",
    "tab_ism_pembayaran = olah_tb.hitung_tambahan(data_used=df_tambahan, kode_awal='p23', mascod = mascod_pembayaran, top = 7)\n",
    "tab_ism_pembayaran = tab_ism_pembayaran.reset_index()\n",
    "tab_ism_pembayaran['Kriteria'] = tab_ism_pembayaran['Kriteria'].astype('str')\n",
    "\n",
    "mascod_chat = pd.read_excel(excel_tambahan, sheet_name = 'p13')\n",
    "tab_ism_chat = olah_tb.hitung_tambahan(data_used=df_tambahan, kode_awal='p13', mascod = mascod_chat, top = 5)\n",
    "tab_ism_chat = tab_ism_chat.reset_index()\n",
    "tab_ism_chat['Kriteria'] = tab_ism_chat['Kriteria'].astype('str')"
   ]
  },
  {
   "cell_type": "code",
   "execution_count": 24,
   "metadata": {},
   "outputs": [],
   "source": [
    "mascod_gadget_dimiliki = pd.read_excel(excel_tambahan, sheet_name = 'p9')\n",
    "tab_ism_gadget_dimiliki = olah_tb.hitung_tambahan(data_used=df_tambahan, kode_awal='p9_1', mascod = mascod_gadget_dimiliki, top = 9)\n",
    "tab_ism_gadget_sering = olah_tb.hitung_tambahan(data_used=df_tambahan, kode_awal='p10', mascod = mascod_gadget_dimiliki)\n",
    "tab_ism_gadget_dimiliki.columns = ['Count_1','Presentase_1']\n",
    "tab_ism_gadget_sering.columns = ['Count_2','Presentase_2']\n",
    "tab_ism_gadget = pd.concat([tab_ism_gadget_dimiliki,tab_ism_gadget_sering], axis = 1)\n",
    "tab_ism_gadget = tab_ism_gadget.fillna(0)\n",
    "list_gadget = tab_ism_gadget.index.to_list()\n",
    "list_gadget = [x for x in list_gadget if (x not in ['Multirespon','Tidak ada/ Tidak Punya'])]\n",
    "list_gadget = list_gadget + ['Tidak ada/ Tidak Punya', 'Multirespon']\n",
    "tab_ism_gadget = tab_ism_gadget.reindex(index = list_gadget)\n",
    "tab_ism_gadget.index.rename('Kriteria', inplace = True)\n",
    "tab_ism_gadget = tab_ism_gadget.reset_index()\n",
    "tab_ism_gadget['Kriteria'] = tab_ism_gadget['Kriteria'].astype('str')\n",
    "\n",
    "mascod_sosmed_dimiliki = pd.read_excel(excel_tambahan, sheet_name = 'p11')\n",
    "tab_ism_sosmed_dimiliki = olah_tb.hitung_tambahan(data_used=df_tambahan, kode_awal='p11_1', mascod = mascod_sosmed_dimiliki, top = 3)\n",
    "tab_ism_sosmed_sering = olah_tb.hitung_tambahan(data_used=df_tambahan, kode_awal='p12', mascod = mascod_sosmed_dimiliki)\n",
    "tab_ism_sosmed_dimiliki.columns = ['Count_1','Presentase_1']\n",
    "tab_ism_sosmed_sering.columns = ['Count_2','Presentase_2']\n",
    "tab_ism_sosmed = pd.concat([tab_ism_sosmed_dimiliki,tab_ism_sosmed_sering], axis = 1)\n",
    "tab_ism_sosmed = tab_ism_sosmed.fillna(0)\n",
    "list_sosmed = tab_ism_sosmed.index.to_list()\n",
    "list_sosmed = [x for x in list_sosmed if (x not in ['Multirespon','Tidak ada/ Tidak Punya'])]\n",
    "list_sosmed = list_sosmed + ['Tidak ada/ Tidak Punya', 'Multirespon']\n",
    "tab_ism_sosmed = tab_ism_sosmed.reindex(index = list_sosmed)\n",
    "tab_ism_sosmed = tab_ism_sosmed.iloc[[0,1,2,-1],:]\n",
    "tab_ism_sosmed.index.rename('Kriteria', inplace = True)\n",
    "tab_ism_sosmed = tab_ism_sosmed.reset_index()\n",
    "tab_ism_sosmed['Kriteria'] = tab_ism_sosmed['Kriteria'].astype('str')"
   ]
  },
  {
   "cell_type": "code",
   "execution_count": 25,
   "metadata": {},
   "outputs": [],
   "source": [
    "mascod_akses = pd.read_excel(excel_non_tambahan, sheet_name = 'akses')\n",
    "tab_ism_akses = olah_tb.hitung_tambahan(data_used=df_nontambahan, kode_awal='akses', mascod = mascod_akses, top = 10)\n",
    "tab_ism_akses = tab_ism_akses.reset_index()\n",
    "tab_ism_akses['Kriteria'] = tab_ism_akses['Kriteria'].astype('str')\n",
    "\n",
    "mascod_aktivitas = pd.read_excel(excel_non_tambahan, sheet_name = 'aktivitas')\n",
    "tab_ism_aktivitas = olah_tb.hitung_tambahan(data_used=df_nontambahan, kode_awal='aktivitas', mascod = mascod_aktivitas, top = 10)\n",
    "tab_ism_aktivitas = tab_ism_aktivitas.reset_index()\n",
    "tab_ism_aktivitas['Kriteria'] = tab_ism_aktivitas['Kriteria'].astype('str')\n",
    "\n",
    "mascod_waktu = pd.read_excel(excel_non_tambahan, sheet_name = 'waktu')\n",
    "tab_ism_waktu = olah_tb.hitung_tambahan(data_used=df_nontambahan, kode_awal='waktu', mascod = mascod_waktu, top = 10)\n",
    "tab_ism_waktu = tab_ism_waktu.reset_index()\n",
    "tab_ism_waktu['Kriteria'] = tab_ism_waktu['Kriteria'].astype('str')\n",
    "\n",
    "mascod_media_upload = pd.read_excel(excel_non_tambahan, sheet_name = 'media_upload')\n",
    "tab_ism_media_upload = olah_tb.hitung_tambahan(data_used=df_nontambahan, kode_awal='media_upload', mascod = mascod_media_upload, top = 10)\n",
    "tab_ism_media_upload = tab_ism_media_upload.reset_index()\n",
    "tab_ism_media_upload['Kriteria'] = tab_ism_media_upload['Kriteria'].astype('str')\n",
    "\n",
    "mascod_media_download = pd.read_excel(excel_non_tambahan, sheet_name = 'media_download')\n",
    "tab_ism_media_download = olah_tb.hitung_tambahan(data_used=df_nontambahan, kode_awal='media_download', mascod = mascod_media_download, top = 10)\n",
    "tab_ism_media_download = tab_ism_media_download.reset_index()\n",
    "tab_ism_media_download['Kriteria'] = tab_ism_media_download['Kriteria'].astype('str')\n",
    "\n",
    "mascod_email = pd.read_excel(excel_non_tambahan, sheet_name = 'email')\n",
    "tab_ism_email = olah_tb.hitung_tambahan(data_used=df_nontambahan, kode_awal='email', mascod = mascod_email, top = 10)\n",
    "tab_ism_email = tab_ism_email.reset_index()\n",
    "tab_ism_email['Kriteria'] = tab_ism_email['Kriteria'].astype('str')\n",
    "\n",
    "mascod_game = pd.read_excel(excel_non_tambahan, sheet_name = 'game')\n",
    "tab_ism_game = olah_tb.hitung_tambahan(data_used=df_nontambahan, kode_awal='game', mascod = mascod_game, top = 10)\n",
    "tab_ism_game = tab_ism_game.reset_index()\n",
    "tab_ism_game['Kriteria'] = tab_ism_game['Kriteria'].astype('str')\n",
    "\n",
    "mascod_berita = pd.read_excel(excel_non_tambahan, sheet_name = 'berita')\n",
    "tab_ism_berita = olah_tb.hitung_tambahan(data_used=df_nontambahan, kode_awal='berita', mascod = mascod_berita, top = 10)\n",
    "tab_ism_berita = tab_ism_berita.reset_index()\n",
    "tab_ism_berita['Kriteria'] = tab_ism_berita['Kriteria'].astype('str')\n",
    "\n",
    "mascod_streaming = pd.read_excel(excel_non_tambahan, sheet_name = 'streaming')\n",
    "tab_ism_streaming = olah_tb.hitung_tambahan(data_used=df_nontambahan, kode_awal='streaming', mascod = mascod_streaming, top = 10)\n",
    "tab_ism_streaming = tab_ism_streaming.reset_index()\n",
    "tab_ism_streaming['Kriteria'] = tab_ism_streaming['Kriteria'].astype('str')\n",
    "\n",
    "mascod_olshop = pd.read_excel(excel_non_tambahan, sheet_name = 'olshop')\n",
    "tab_ism_olshop = olah_tb.hitung_tambahan(data_used=df_nontambahan, kode_awal='olshop', mascod = mascod_olshop, top = 10)\n",
    "tab_ism_olshop = tab_ism_olshop.reset_index()\n",
    "tab_ism_olshop['Kriteria'] = tab_ism_olshop['Kriteria'].astype('str')"
   ]
  },
  {
   "cell_type": "markdown",
   "metadata": {},
   "source": [
    "## Hitung n Sampel dan Multirespon"
   ]
  },
  {
   "cell_type": "code",
   "execution_count": 26,
   "metadata": {},
   "outputs": [],
   "source": [
    "# Peta Top Brand\n",
    "nSampel_mind_share = olah_tb.hitung_nSampel(df_laporan, 'TOM')\n",
    "\n",
    "dt_nonIR = df_laporan[df_laporan.IR == 'Tidak']\n",
    "nSampel_mind_share_nonUser = olah_tb.hitung_nSampel(dt_nonIR, 'TOM')\n",
    "\n",
    "unaided_multirespon = [round(sum(dt_unaided['Unaided']), 1)]\n",
    "unaided_nSampel = [nSampel_mind_share.iloc[-1,0]]\n",
    "nSampel_mult_unaided = pd.DataFrame({'nSampel': unaided_nSampel, 'Total multirespon': unaided_multirespon})\n",
    "\n",
    "nSampel_market_share = olah_tb.hitung_nSampel(df_laporan, 'LU')\n",
    "nSampel_commitment_share = olah_tb.hitung_nSampel(df_laporan, 'FI')"
   ]
  },
  {
   "cell_type": "markdown",
   "metadata": {},
   "source": [
    "## simpan"
   ]
  },
  {
   "cell_type": "code",
   "execution_count": 27,
   "metadata": {
    "scrolled": false
   },
   "outputs": [
    {
     "name": "stderr",
     "output_type": "stream",
     "text": [
      "C:\\ProgramData\\Anaconda3\\lib\\site-packages\\pandas\\io\\formats\\excel.py:331: CSSWarning: Unhandled color format: 'royalblue'\n",
      "  warnings.warn(f\"Unhandled color format: {repr(val)}\", CSSWarning)\n"
     ]
    }
   ],
   "source": [
    "nama_output = \"tabel output laporan top brand1 %s.xlsx\"%(client)\n",
    "list_simpan = [sample_size, dt_tracking,\n",
    "               tabelUsiar, tabelUsia, tabelPendidikan, tabelPekerjaan, presentase_pekerjaan, tabelExpandr,\n",
    "               mind_share_kota, mind_share_expandr, mind_share_usiar, mind_share_sex,\n",
    "               mind_share_kota_nonuser, mind_share_expandr_nonuser, mind_share_usiar_nonuser, mind_share_sex_nonuser,\n",
    "               market_share_kota, market_share_expandr, market_share_usiar, market_share_sex,\n",
    "               commitment_share_kota, commitment_share_expandr, commitment_share_usiar, commitment_share_sex,\n",
    "               indeks_tbi_kota, indeks_tbi_expandr, indeks_tbi_usiar, indeks_tbi_sex,\n",
    "               unaided_kota, unaided_expandr, unaided_usiar, unaided_sex,\n",
    "               tabel_indeks, tabel_gap, brand_switching_analysis, tabel_brand_switching, dt_diagnostic, \n",
    "              cl_overall_ , cl_perkota_]\n",
    "list_nama_simpan = ['sample size', 'data tracking',\n",
    "                    'sample Usiar','sample Usia','sample Pendidikan','sample Pekerjaan','presentase Pekerjaan','sample Expandr',\n",
    "                    'mind_share_kota', 'mind_share_expandr', 'mind_share_usiar', 'mind_share_sex',\n",
    "                    'mind_share_kota_nonuser', 'mind_share_expandr_nonuser', 'mind_share_usiar_nonuser', 'mind_share_sex_nonuser',\n",
    "                    'market_share_kota', 'market_share_expandr', 'market_share_usiar', 'market_share_sex',\n",
    "                    'commitment_share_kota', 'commitment_share_expandr', 'commitment_share_usiar', 'commitment_share_sex',                    \n",
    "                    'indeks tbi kota','indeks tbi expandr', 'indeks tbi usiar','indeks tbi sex',\n",
    "                    'unaided kota','unaided expandr','unaided usiar','unaided sex',\n",
    "                    'tabel indeks','tabel gap', 'brand switching analysis', 'tabel brand switching', 'brand diagnostic',\n",
    "                   'competitor landscape', 'competitor kota']\n",
    "writer = pd.ExcelWriter(nama_output)\n",
    "\n",
    "for i in range(len(list_simpan)):\n",
    "    if ('presentase Pekerjaan' in list_nama_simpan[i]) or  ('indeks ' in list_nama_simpan[i]) or ('brand switching' in list_nama_simpan[i]) or ('share' in list_nama_simpan[i]) or ('unaided' in list_nama_simpan[i]) or ('competitor landscape'==list_nama_simpan[i]):\n",
    "        list_simpan[i].to_excel(writer,sheet_name=list_nama_simpan[i])\n",
    "    elif ('competitor kota' == list_nama_simpan[i]):\n",
    "        for j in range(len(cl_perkota_)):\n",
    "            list_simpan[i][j].to_excel(writer,sheet_name=list_nama_simpan[i]+cl_perkota_[j].data.index.names[0])\n",
    "    else:\n",
    "        list_simpan[i].to_excel(writer,sheet_name=list_nama_simpan[i], index=False)\n",
    "writer.save()"
   ]
  },
  {
   "cell_type": "code",
   "execution_count": null,
   "metadata": {},
   "outputs": [],
   "source": []
  },
  {
   "cell_type": "markdown",
   "metadata": {},
   "source": [
    "# PPT"
   ]
  },
  {
   "cell_type": "code",
   "execution_count": 28,
   "metadata": {
    "code_folding": []
   },
   "outputs": [],
   "source": [
    "template_ppt = ppt_tb.FileTemplate('template laporan top brand 2021.pptx')\n",
    "excel = pd.ExcelFile('tabel output laporan top brand1 Comforta.xlsx')"
   ]
  },
  {
   "cell_type": "markdown",
   "metadata": {},
   "source": [
    "## Pendahuluan"
   ]
  },
  {
   "cell_type": "code",
   "execution_count": 29,
   "metadata": {},
   "outputs": [],
   "source": [
    "tabel_sample_size = ppt_tb.buat_tabel(template_ppt = template_ppt, \n",
    "                                      nomor_slide=6, \n",
    "                                      baris=len(sample_size)+1, kolom=len(sample_size.columns)+1, \n",
    "                                      kiri=0.25, atas=1, lebar=4.25, tinggi=5)\n",
    "tabel_sample_size.columns[0].width = ppt_tb.Inches(.5)\n",
    "tabel_sample_size.columns[1].width = ppt_tb.Inches(1.2)\n",
    "# tabel_sample_size.columns[2].width = ppt_tb.Inches(.75)\n",
    "# tabel_sample_size.columns[3].width = ppt_tb.Inches(.75)\n",
    "# tabel_sample_size.columns[4].width = ppt_tb.Inches(.75)\n",
    "\n",
    "tabel_sample_size.rows[0].height = ppt_tb.Inches(.47)\n",
    "\n",
    "for i in range(1, len(sample_size)-1):\n",
    "    tabel_sample_size.rows[i].height = ppt_tb.Inches(.33)\n",
    "tabel_sample_size.rows[len(sample_size)].height = ppt_tb.Inches(.47)\n",
    "\n",
    "ppt_tb.plot_sample_size(sample_size, tabel_sample_size)"
   ]
  },
  {
   "cell_type": "markdown",
   "metadata": {},
   "source": [
    "## Ringkasan Eksekutif"
   ]
  },
  {
   "cell_type": "code",
   "execution_count": 30,
   "metadata": {},
   "outputs": [],
   "source": [
    "ppt_tb.plot_tracking(template_ppt, 13, data_tracking, merek_tracking)\n",
    "ppt_tb.plot_kemarin_sekarang(template_ppt, 14, tahun_ini, semua_elemen_kemarin, semua_elemen_sekarang, merek_top6)\n",
    "ppt_tb.plot_tracking_client(template_ppt, 15, dt_client)\n",
    "ppt_tb.plot_line_tracking_client(template_ppt, 16, dt_client_5thn)"
   ]
  },
  {
   "cell_type": "markdown",
   "metadata": {},
   "source": [
    "## Profil responden"
   ]
  },
  {
   "cell_type": "code",
   "execution_count": 31,
   "metadata": {},
   "outputs": [],
   "source": [
    "ppt_tb.plot_data_ir_kota(template_ppt, 22, profil_ir_persen)\n",
    "ppt_tb.pie_chart_ir(template_ppt, 22, profil_ir_persen, .5, 2, 4.25, 3.32)\n",
    "ppt_tb.plot_nSampel_multirespon(template_ppt, 22, profil_ir, 'Lato Light', 10,\n",
    "                            .5, 4.75, 1, .25, -1, -1, multirespon_ = False)\n",
    "\n",
    "ppt_tb.donut_chart(template_ppt, 23, total_Usiar,  .25, 1, 4.5, 3.5)\n",
    "ppt_tb.bar_chart_profil(template_ppt, 23, total_Pendidikan, 5, 1.25, 4, 3)\n",
    "ppt_tb.bar_chart_profil(template_ppt, 23, total_Pekerjaan, .5, 4.5, 4, 2.5, 5)\n",
    "ppt_tb.donut_chart(template_ppt, 23, total_Expandr,   5.5, 4.5, 4.5, 3.5, True)\n",
    "ppt_tb.plot_text(template_ppt, 23,\"Mean usia\", mean_usia, 'Tahoma', 10, .5, 3.75, 1.5, .25)\n",
    "\n",
    "ppt_tb.grafik_profil_responden(template_ppt, 24, tabelUsiar)\n",
    "ppt_tb.plot_tabel_n_sampel(template_ppt, 24, tabelUsia, True)\n",
    "\n",
    "ppt_tb.grafik_profil_responden(template_ppt, 25, tabelExpandr)\n",
    "ppt_tb.plot_tabel_n_sampel(template_ppt, 25, tabelExpandr)\n",
    "\n",
    "ppt_tb.grafik_profil_responden(template_ppt, 26, tabelPendidikan)\n",
    "ppt_tb.plot_tabel_n_sampel(template_ppt, 26, tabelPendidikan)\n",
    "\n",
    "ppt_tb.plot_tabel_pekerjaan(template_ppt, 27, excel, 'presentase Pekerjaan')"
   ]
  },
  {
   "cell_type": "markdown",
   "metadata": {},
   "source": [
    "## Peta top brand"
   ]
  },
  {
   "cell_type": "code",
   "execution_count": 32,
   "metadata": {},
   "outputs": [],
   "source": [
    "ppt_tb.ppt_plot_bar_gap(template_ppt, 30, dt_tbi, gap_tbi, 'Comforta')\n",
    "ppt_tb.ppt_by_kota(template_ppt, 31, excel, 'indeks tbi kota', False)\n",
    "ppt_tb.ppt_by_usiar(template_ppt, 32, excel, 'indeks tbi usiar', False)\n",
    "ppt_tb.ppt_by_expandr(template_ppt, 33, excel, 'indeks tbi expandr', False)\n",
    "ppt_tb.ppt_by_sex(template_ppt, 33, excel, 'indeks tbi sex', False)\n",
    "\n",
    "ppt_tb.ppt_plot_bar_gap(template_ppt, 35, mind_share, gap_mind_share, 'Comforta')\n",
    "ppt_tb.plot_nSampel_multirespon(template_ppt, 35, nSampel_mind_share, 'Tahoma', 10,\n",
    "                            8, 1.25, 1.25, .25, -1, 0, multirespon_ = False)\n",
    "ppt_tb.ppt_by_kota(template_ppt, 36, excel, 'mind_share_kota')\n",
    "ppt_tb.ppt_by_usiar(template_ppt, 37, excel, 'mind_share_usiar')\n",
    "ppt_tb.ppt_by_expandr(template_ppt, 38, excel, 'mind_share_expandr')\n",
    "ppt_tb.ppt_by_sex(template_ppt, 38, excel, 'mind_share_sex')\n",
    "\n",
    "ppt_tb.ppt_plot_bar_gap(template_ppt,39, mind_share_nonuser,gap_mind_share_nonuser, 'Comforta')\n",
    "ppt_tb.plot_nSampel_multirespon(template_ppt, 39, nSampel_mind_share_nonUser, 'Tahoma', 10,\n",
    "                            8, 1.25, 1.25, .25, -1, 0)\n",
    "ppt_tb.ppt_by_kota(template_ppt, 40, excel, 'mind_share_kota_nonuser')\n",
    "ppt_tb.ppt_by_usiar(template_ppt, 41, excel, 'mind_share_usiar_nonuser')\n",
    "ppt_tb.ppt_by_expandr(template_ppt, 42, excel, 'mind_share_expandr_nonuser')\n",
    "ppt_tb.ppt_by_sex(template_ppt, 42, excel, 'mind_share_sex_nonuser')\n",
    "\n",
    "ppt_tb.ppt_plot_bar_gap(template_ppt, 43, dt_unaided, gap_unaided, 'Comforta')\n",
    "ppt_tb.ppt_plot_bar_gap(template_ppt, 43, mind_share, None, None)\n",
    "ppt_tb.plot_nSampel_multirespon(template_ppt, 43, nSampel_mult_unaided, 'Tahoma', 10,\n",
    "                            7.5, 1.25, 2, .5, -1, 0, True, 0, 1)\n",
    "ppt_tb.ppt_by_kota(template_ppt, 44, excel, 'unaided kota', True, True)\n",
    "ppt_tb.ppt_by_usiar(template_ppt, 45, excel, 'unaided usiar', True, True)\n",
    "ppt_tb.ppt_by_expandr(template_ppt, 46, excel, 'unaided expandr', True, True)\n",
    "ppt_tb.ppt_by_sex(template_ppt, 46, excel, 'unaided sex', True, True)\n",
    "\n",
    "ppt_tb.ppt_plot_bar_gap(template_ppt, 48, market_share, gap_market_share, 'Comforta')\n",
    "ppt_tb.plot_nSampel_multirespon(template_ppt, 48, nSampel_market_share, 'Tahoma', 10,\n",
    "                            8, 1.25, 1.25, .25, -1, 0, multirespon_ = False)\n",
    "ppt_tb.ppt_by_kota(template_ppt, 49, excel, 'market_share_kota')\n",
    "ppt_tb.ppt_by_usiar(template_ppt, 50, excel, 'market_share_usiar')\n",
    "ppt_tb.ppt_by_expandr(template_ppt, 51, excel, 'market_share_expandr')\n",
    "ppt_tb.ppt_by_sex(template_ppt, 51, excel, 'market_share_sex')\n",
    "\n",
    "ppt_tb.ppt_plot_bar_gap(template_ppt, 53, commitment_share, gap_commitment_share)\n",
    "ppt_tb.plot_nSampel_multirespon(template_ppt, 53, nSampel_market_share, 'Tahoma', 10,\n",
    "                            8, 1.25, 1.25, .25, -1, 0, multirespon_ = False)\n",
    "ppt_tb.ppt_by_kota(template_ppt, 54, excel, 'commitment_share_kota')\n",
    "ppt_tb.ppt_by_usiar(template_ppt, 55, excel, 'commitment_share_usiar')\n",
    "ppt_tb.ppt_by_expandr(template_ppt, 56, excel, 'commitment_share_expandr')\n",
    "ppt_tb.ppt_by_sex(template_ppt, 56, excel, 'commitment_share_sex')"
   ]
  },
  {
   "cell_type": "markdown",
   "metadata": {},
   "source": [
    "## Brand switching"
   ]
  },
  {
   "cell_type": "code",
   "execution_count": 33,
   "metadata": {},
   "outputs": [],
   "source": [
    "ppt_tb.plot_brand_switching_bar(template_ppt, 59, brand_switch, n_sample)\n",
    "ppt_tb.plot_bar_chart(template_ppt, 59, brand_switch['Brand'], brand_switch['Switching in'], 4.25, 1.675, 3.5, 3.75, 0, 250, [127, 127, 127])\n",
    "ppt_tb.plot_bar_chart(template_ppt, 59, brand_switch['Brand'], brand_switch['Net switching'], 4, 1.675, 4.5, 3.75, -200, 200, [192, 0, 0])\n",
    "ppt_tb.plot_bar_chart(template_ppt, 59, brand_switch['Brand'], brand_switch['Actual LU'], 7, 1.675, 2.5, 3.75, 0, 100, [64, 49, 82])\n",
    "ppt_tb.plot_bar_chart(template_ppt, 59, brand_switch['Brand'], brand_switch['Prediksi LU'], 8.375, 1.675, 2.5, 3.75, 0, 100, [152, 72, 7])\n",
    "\n",
    "ppt_tb.ppt_tabel_brand_switching(template_ppt, 60, tabel_brand_switching, 0.375, 2.125, 8.675, 3)\n",
    "\n",
    "ppt_tb.plot_stacked_bar(template_ppt, 62,\n",
    "                        list_data=[conv_rate['CR'], conv_rate['UOB'], conv_rate['ABNU']],\n",
    "                        kategori=conv_rate['Brand'], kategori1=n_sample['n Sample'],\n",
    "                        left=3.5, top=1.25, width=4, height=4)\n",
    "ppt_tb.plot_bar_chart(template_ppt, 62, conv_rate['Brand'], conv_rate['TOM'], .75, 1.25, 5, 4, 0, 100,[25, 25, 77], n_sample['n Sample'], True)\n",
    "ppt_tb.plot_bar_chart(template_ppt, 62, conv_rate['Brand'], conv_rate['NABU'], 7.75, 1.25, 4, 4, 0, 100,[192, 0, 0], n_sample['n Sample'])"
   ]
  },
  {
   "cell_type": "markdown",
   "metadata": {},
   "source": [
    "## Brand Diagnostic & Competitor Landscape"
   ]
  },
  {
   "cell_type": "code",
   "execution_count": 34,
   "metadata": {},
   "outputs": [],
   "source": [
    "ppt_tb.plot_tabel_brandDiac(template_ppt, 66, dt_diagnostic)\n",
    "ppt_tb.plot_scatter_brandDiac(template_ppt, 67, dt_diagnostic, 6)"
   ]
  },
  {
   "cell_type": "code",
   "execution_count": 35,
   "metadata": {},
   "outputs": [],
   "source": [
    "ppt_tb.ppt_competition_landscape(template_ppt, 71,excel, 'competitor landscape', 0.375, 1, 8.675, 3, 9, 9, .375, .375, 1.5)\n",
    "\n",
    "ppt_tb.ppt_competition_landscape(template_ppt, 72, excel, 'competitor kotaJabodetabek', 2, 1.25, 7, 2.5, 8, 8, .25, .5, 1)\n",
    "ppt_tb.ppt_competition_landscape(template_ppt, 72, excel, 'competitor kotaBandung', 2, 4.25, 7, 2.5, 8, 8, .25, .5, 1)\n",
    "\n",
    "ppt_tb.ppt_competition_landscape(template_ppt, 73, excel, 'competitor kotaSemarang', 2, 1.25, 7, 2.5, 8, 8, .25, .5, 1)\n",
    "ppt_tb.ppt_competition_landscape(template_ppt, 73, excel, 'competitor kotaYogyakarta', 2, 4.25, 7, 2.5, 8, 8, .25, .5, 1)\n",
    "\n",
    "ppt_tb.ppt_competition_landscape(template_ppt, 74, excel, 'competitor kotaSurabaya', 2.5, .875, 6.5, 2, 7, 8, .15, .5, 1)\n",
    "ppt_tb.ppt_competition_landscape(template_ppt, 74, excel, 'competitor kotaMalang', 2.5, 3, 6.5, 2, 7, 8, .15, .5, 1)\n",
    "ppt_tb.ppt_competition_landscape(template_ppt, 74, excel, 'competitor kotaDenpasar', 2.5, 5.125, 6.5, 2, 7, 8, .15, .5, 1)\n",
    "\n",
    "ppt_tb.ppt_competition_landscape(template_ppt, 75, excel, 'competitor kotaMedan', 2.5, .875, 6.5, 2, 7, 8, .15, .5, 1)\n",
    "ppt_tb.ppt_competition_landscape(template_ppt, 75, excel, 'competitor kotaPalembang', 2.5, 3, 6.5, 2, 7, 8, .15, .5, 1)\n",
    "ppt_tb.ppt_competition_landscape(template_ppt, 75, excel, 'competitor kotaPekanbaru', 2.5, 5.125, 6.5, 2, 7, 8, .15, .5, 1)\n",
    "\n",
    "ppt_tb.ppt_competition_landscape(template_ppt, 76, excel, 'competitor kotaBanjarmasin', 2.5, .875, 6.5, 2, 7, 8, .15, .5, 1)\n",
    "ppt_tb.ppt_competition_landscape(template_ppt, 76, excel, 'competitor kotaBalikpapan', 2.5, 3, 6.5, 2, 7, 8, .15, .5, 1)\n",
    "ppt_tb.ppt_competition_landscape(template_ppt, 76, excel, 'competitor kotaSamarinda', 2.5, 5.125, 6.5, 2, 7, 8, .15, .5, 1)\n",
    "\n",
    "ppt_tb.ppt_competition_landscape(template_ppt, 77, excel, 'competitor kotaMakassar', 2, 1.25, 7, 2.5, 8, 8, .25, .5, 1)\n",
    "ppt_tb.ppt_competition_landscape(template_ppt, 77, excel, 'competitor kotaManado', 2, 4.25, 7, 2.5, 8, 8, .25, .5, 1)"
   ]
  },
  {
   "cell_type": "markdown",
   "metadata": {},
   "source": [
    "## General Information"
   ]
  },
  {
   "cell_type": "markdown",
   "metadata": {},
   "source": [
    "### Media Habit"
   ]
  },
  {
   "cell_type": "code",
   "execution_count": 36,
   "metadata": {
    "scrolled": true
   },
   "outputs": [],
   "source": [
    "ppt_tb.plot_bar_chart(template_ppt, 80, tab_mhabit['Kriteria'][:len(tab_mhabit)-1], \n",
    "               tab_mhabit['Presentase'][:len(tab_mhabit)-1],\n",
    "               1, 1.75, 6, 4, 0, 100,[37, 64, 97], None, True, 12, 40)\n",
    "ppt_tb.plot_nSampel_multirespon(template_ppt, 80, tab_mhabit, 'Tahoma', 10,\n",
    "                            4.5, 5.5, 2, .5, -1, -2, True, -1, -1)\n",
    "\n",
    "ppt_tb.plot_bar_chart(template_ppt, 81, tab_mhabit_tv['Kriteria'][:len(tab_mhabit_tv)-1], \n",
    "               tab_mhabit_tv['Presentase'][:len(tab_mhabit_tv)-1],\n",
    "               6, 2, 2.25, 3.5, 0, 100,[37, 64, 97], None, True, 12, 40)\n",
    "ppt_tb.plot_nSampel_multirespon(template_ppt, 81, tab_mhabit_tv, 'Tahoma', 10,\n",
    "                            6.5, 5.5, 2, .5, -1, -2, True, -1, -1)\n",
    "\n",
    "ppt_tb.plot_bar_chart(template_ppt, 82, tab_mhabit_acaratv['Kriteria'][:len(tab_mhabit_acaratv)-1], \n",
    "               tab_mhabit_acaratv['Presentase'][:len(tab_mhabit_acaratv)-1],\n",
    "               .5, 1.5, 4, 4.25, 0, 100,[37, 64, 97], None, True, 12, 40)\n",
    "ppt_tb.plot_nSampel_multirespon(template_ppt, 82, tab_mhabit_acaratv, 'Tahoma', 10,\n",
    "                            4.5, 5.25, 2, .5, -1, -2, True, -1, -1)\n",
    "\n",
    "ppt_tb.plot_bar_chart(template_ppt, 83, tab_mhabit_koran['Kriteria'][:len(tab_mhabit_koran)-1], \n",
    "               tab_mhabit_koran['Presentase'][:len(tab_mhabit_koran)-1],\n",
    "               6, 2, 3, 3.25, 0, 100, [37, 64, 97],None, True, 12, 40)\n",
    "ppt_tb.plot_nSampel_multirespon(template_ppt, 83, tab_mhabit_koran, 'Tahoma', 10,\n",
    "                            6.5, 5.5, 2, .5, -1, -2, True, -1, -1)\n",
    "\n",
    "ppt_tb.plot_bar_chart(template_ppt, 84, tab_mhabit_majalah['Kriteria'][:len(tab_mhabit_majalah)-1], \n",
    "               tab_mhabit_majalah['Presentase'][:len(tab_mhabit_majalah)-1],\n",
    "               6, 2, 3, 3.25, 0, 100, [37, 64, 97],None, True, 12, 40)\n",
    "ppt_tb.plot_nSampel_multirespon(template_ppt, 84, tab_mhabit_majalah, 'Tahoma', 10,\n",
    "                            6.5, 5.5, 2, .5, -1, -2, True, -1, -1)\n",
    "\n",
    "ppt_tb.plot_bar_chart(template_ppt, 85, tab_mhabit_tabloid['Kriteria'][:len(tab_mhabit_tabloid)-1], \n",
    "               tab_mhabit_tabloid['Presentase'][:len(tab_mhabit_tabloid)-1],\n",
    "               6, 2, 2.25, 3.25, 0, 100, [37, 64, 97],None, True, 12, 40)\n",
    "ppt_tb.plot_nSampel_multirespon(template_ppt, 85, tab_mhabit_tabloid, 'Tahoma', 10,\n",
    "                            4.5, 5.25, 2, .5, -1, -2, True, -1, -1)"
   ]
  },
  {
   "cell_type": "markdown",
   "metadata": {},
   "source": [
    "### Internet & Media Sosial"
   ]
  },
  {
   "cell_type": "code",
   "execution_count": 37,
   "metadata": {},
   "outputs": [],
   "source": [
    "ppt_tb.pie_chart_olshop(template_ppt, 87, profil_olshop_persen)\n",
    "ppt_tb.plot_data_olshop_kota(template_ppt, 87, profil_olshop_persen)\n",
    "ppt_tb.plot_nSampel_multirespon(template_ppt, 87, profil_olshop_persen, 'Lato Light', 10,\n",
    "                            .5, 4.5, 1, .25, -1, -1)\n",
    "\n",
    "ppt_tb.plot_bar_chart(template_ppt, 88, tab_ism_jenis_barang['Kriteria'][:len(tab_ism_jenis_barang)-1], \n",
    "               tab_ism_jenis_barang['Presentase'][:len(tab_mhabit_tabloid)-1],\n",
    "               4, 1.5, 4.25, 3.75, 0, 100, [37, 64, 97],None, True, 12, 40)\n",
    "ppt_tb.plot_bar_chart(template_ppt, 88, tab_ism_pembayaran['Kriteria'][:len(tab_ism_pembayaran)-1], \n",
    "               tab_ism_pembayaran['Presentase'][:len(tab_ism_pembayaran)-1],\n",
    "               .25, 4.375, 4.25, 2.665, 0, 100, [37, 64, 97],None, True, 12, 40)\n",
    "ppt_tb.plot_nSampel_multirespon(template_ppt, 88, tab_ism_jenis_barang, 'Lato Light', 10,\n",
    "                            7, 5.25, 2, .5, -1, -2, True, -1, -1)\n",
    "ppt_tb.plot_text(template_ppt, 88, 'Rata-rata pengeluaran', rata_pengeluaran, 'Lato Light', 15,\n",
    "                            .25, 2.75, 2, .5)\n",
    "\n",
    "ppt_tb.plot_bar_chart(template_ppt, 90, tab_ism_gadget['Kriteria'][:len(tab_ism_gadget)-1], \n",
    "               tab_ism_gadget['Presentase_1'][:len(tab_ism_gadget)-1],\n",
    "               .25, 1.75, 3.5, 3.5, 0, 100, [37, 64, 97],None, True, 12, 40)\n",
    "ppt_tb.plot_bar_chart(template_ppt, 90, tab_ism_gadget['Kriteria'][:len(tab_ism_gadget)-1], \n",
    "               tab_ism_gadget['Presentase_2'][:len(tab_ism_gadget)-1],\n",
    "               4.5, 1.75, 2.25, 3.5, 0, 100, [85, 142, 213],None, False, 12, 40)\n",
    "ppt_tb.plot_nSampel_multirespon(template_ppt, 90, tab_ism_gadget, 'Lato Light', 10,\n",
    "                            2, 5.25, 2, .5, -1, 1, True, -1, 2)\n",
    "\n",
    "ppt_tb.plot_bar_chart(template_ppt, 91, tab_ism_chat['Kriteria'][:len(tab_ism_chat)-1], \n",
    "               tab_ism_chat['Presentase'][:len(tab_ism_chat)-1],\n",
    "               1.25, 2.25, 3.75, 1.5, 0, 100, [37, 64, 97],None, True, 10, 40)\n",
    "\n",
    "ppt_tb.plot_bar_chart(template_ppt, 92, tab_ism_sosmed['Kriteria'][:len(tab_ism_sosmed)-1], \n",
    "               tab_ism_sosmed['Presentase_1'][:len(tab_ism_sosmed)-1],\n",
    "               1.5, 4.75, 2, 1.75, 0, 100, [37, 64, 97],None, True, 10, 40)\n",
    "ppt_tb.plot_bar_chart(template_ppt, 92, tab_ism_sosmed['Kriteria'][:len(tab_ism_sosmed)-1], \n",
    "               tab_ism_sosmed['Presentase_2'][:len(tab_ism_sosmed)-1],\n",
    "               3.5, 4.75, 1.5, 1.75, 0, 100, [85, 142, 213],None, False, 10, 40)"
   ]
  },
  {
   "cell_type": "code",
   "execution_count": 38,
   "metadata": {},
   "outputs": [],
   "source": [
    "ppt_tb.plot_bar_chart(template_ppt, 89, tab_ism_aktivitas['Kriteria'][:len(tab_ism_aktivitas)-1], \n",
    "               tab_ism_aktivitas['Presentase'][:len(tab_ism_aktivitas)-1],\n",
    "               3.5, 2, 3.5, 3.25, 0, 100, [37, 64, 97],None, True, 10, 40)\n",
    "ppt_tb.plot_bar_chart(template_ppt, 89, tab_ism_waktu['Kriteria'][:len(tab_ism_waktu)-1], \n",
    "               tab_ism_waktu['Presentase'][:len(tab_ism_waktu)-1],\n",
    "               7, 2, 3.5, 2.375, 0, 100, [37, 64, 97],None, True, 10, 40)\n",
    "ppt_tb.plot_growing_text(template_ppt, 89, tab_ism_akses.iloc[:-1,:], [20, 15, 10], 'Lato Light',\n",
    "                     .25, 2.25, 3, 1)\n",
    "ppt_tb.plot_nSampel_multirespon(template_ppt, 89, tab_ism_aktivitas, 'Lato Light', 10,\n",
    "                            .5, 5.75, 2, .5, -1, -2, True, -1, -1)\n",
    "\n",
    "ppt_tb.plot_bar_chart(template_ppt, 91, tab_ism_email['Kriteria'][:len(tab_ism_email)-1], \n",
    "               tab_ism_email['Presentase'][:len(tab_ism_email)-1],\n",
    "               1.5, 4.25, 3, 2.25, 0, 100, [37, 64, 97],None, True, 10, 40)\n",
    "ppt_tb.plot_bar_chart(template_ppt, 91, tab_ism_media_upload['Kriteria'][:len(tab_ism_media_upload)-1], \n",
    "               tab_ism_media_upload['Presentase'][:len(tab_ism_media_upload)-1],\n",
    "               4.5, 2.5, 3.5, 3.5, 0, 100, [37, 64, 97],None, True, 10, 40)\n",
    "ppt_tb.plot_bar_chart(template_ppt, 91, tab_ism_media_download['Kriteria'][:len(tab_ism_media_download)-1], \n",
    "               tab_ism_media_download['Presentase'][:len(tab_ism_media_download)-1],\n",
    "               7.5, 2.5, 3.25, 4, 0, 100, [37, 64, 97],None, True, 10, 40)\n",
    "\n",
    "ppt_tb.plot_bar_chart(template_ppt, 92, tab_ism_game['Kriteria'][:len(tab_ism_game)-1], \n",
    "               tab_ism_game['Presentase'][:len(tab_ism_game)-1],\n",
    "               .125, 1.5, 2.875, 2.75, 0, 100, [37, 64, 97],None, True, 10, 40)\n",
    "ppt_tb.plot_bar_chart(template_ppt, 92, tab_ism_berita['Kriteria'][:len(tab_ism_berita)-1], \n",
    "               tab_ism_berita['Presentase'][:len(tab_ism_berita)-1],\n",
    "               2.25, 1.5, 2.875, 2.75, 0, 100, [37, 64, 97],None, True, 10, 40)\n",
    "ppt_tb.plot_bar_chart(template_ppt, 92, tab_ism_streaming['Kriteria'][:len(tab_ism_streaming)-1], \n",
    "               tab_ism_streaming['Presentase'][:len(tab_ism_streaming)-1],\n",
    "               5.5, 2, 3.5, 3.5, 0, 100, [37, 64, 97],None, True, 10, 40)\n",
    "ppt_tb.plot_bar_chart(template_ppt, 92, tab_ism_olshop['Kriteria'][:len(tab_ism_olshop)-1], \n",
    "               tab_ism_olshop['Presentase'][:len(tab_ism_olshop)-1],\n",
    "               7.75, 2, 3.5, 4, 0, 100, [37, 64, 97],None, True, 10, 40)"
   ]
  },
  {
   "cell_type": "markdown",
   "metadata": {},
   "source": [
    "\n",
    "## save"
   ]
  },
  {
   "cell_type": "code",
   "execution_count": 39,
   "metadata": {
    "scrolled": true
   },
   "outputs": [],
   "source": [
    "template_ppt.save('test laporan top brand2.pptx')"
   ]
  },
  {
   "cell_type": "code",
   "execution_count": null,
   "metadata": {},
   "outputs": [],
   "source": []
  },
  {
   "cell_type": "code",
   "execution_count": null,
   "metadata": {},
   "outputs": [],
   "source": []
  }
 ],
 "metadata": {
  "kernelspec": {
   "display_name": "Python 3",
   "language": "python",
   "name": "python3"
  },
  "language_info": {
   "codemirror_mode": {
    "name": "ipython",
    "version": 3
   },
   "file_extension": ".py",
   "mimetype": "text/x-python",
   "name": "python",
   "nbconvert_exporter": "python",
   "pygments_lexer": "ipython3",
   "version": "3.8.5"
  },
  "toc": {
   "base_numbering": 1,
   "nav_menu": {},
   "number_sections": true,
   "sideBar": true,
   "skip_h1_title": false,
   "title_cell": "Table of Contents",
   "title_sidebar": "Contents",
   "toc_cell": false,
   "toc_position": {
    "height": "245.717px",
    "left": "167px",
    "top": "169.25px",
    "width": "252.512px"
   },
   "toc_section_display": true,
   "toc_window_display": true
  }
 },
 "nbformat": 4,
 "nbformat_minor": 5
}
